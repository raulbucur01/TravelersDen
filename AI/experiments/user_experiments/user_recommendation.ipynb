{
 "cells": [
  {
   "cell_type": "code",
   "execution_count": 2,
   "metadata": {},
   "outputs": [],
   "source": [
    "import pandas as pd\n",
    "from sklearn.metrics.pairwise import cosine_similarity\n",
    "\n",
    "# Load dataset\n",
    "df = pd.read_csv(\"./users.csv\").sample(n=2000, random_state=42)\n",
    "\n",
    "# Extract interest columns\n",
    "interests = df.iloc[:, 4:]\n",
    "\n",
    "# Compute cosine similarity\n",
    "similarity_matrix = cosine_similarity(interests)\n",
    "\n",
    "# Convert to DataFrame for better readability\n",
    "similarity_df = pd.DataFrame(similarity_matrix, index=df[\"UserID\"], columns=df[\"UserID\"])\n"
   ]
  },
  {
   "cell_type": "code",
   "execution_count": 3,
   "metadata": {},
   "outputs": [],
   "source": [
    "# Define age groups and similarity weight\n",
    "age_groups = ['18-24', '25-34', '35-44', '45-54', '55-64', '65-74', '75+']\n",
    "age_group_weights = {0: 1.0, 1: 0.8, 2: 0.6, 3: 0.4, 4: 0.2, 5: 0.1, 6: 0.05}\n",
    "\n",
    "# Function to get age weight between two users\n",
    "def age_similarity(user1_age, user2_age):\n",
    "    index1 = age_groups.index(user1_age)\n",
    "    index2 = age_groups.index(user2_age)\n",
    "    distance = abs(index1 - index2)\n",
    "    return age_group_weights.get(distance, 0.05)  # Default to lowest weight\n"
   ]
  },
  {
   "cell_type": "code",
   "execution_count": 4,
   "metadata": {},
   "outputs": [],
   "source": [
    "def adjusted_similarity(df, similarity_df, user_id):\n",
    "    user_row = df[df[\"UserID\"] == user_id].iloc[0]\n",
    "    user_country = user_row[\"Country\"]\n",
    "    user_age = user_row[\"AgeGroup\"]\n",
    "    \n",
    "    # Adjust similarity scores\n",
    "    sim_scores = similarity_df[user_id].copy()\n",
    "\n",
    "    for other_user in df[\"UserID\"]:\n",
    "        if other_user == user_id:\n",
    "            continue\n",
    "\n",
    "        other_row = df[df[\"UserID\"] == other_user].iloc[0]\n",
    "        \n",
    "        # Age similarity adjustment\n",
    "        age_weight = age_similarity(user_age, other_row[\"AgeGroup\"])\n",
    "        \n",
    "        # Country adjustment\n",
    "        if user_country != other_row[\"Country\"]:\n",
    "            sim_scores[other_user] *= 0.5  # Reduce similarity by 50% if from different country\n",
    "        \n",
    "        # Apply age weight\n",
    "        sim_scores[other_user] *= age_weight\n",
    "\n",
    "    return sim_scores.sort_values(ascending=False).iloc[1:6]  # Top 5 similar users\n",
    "\n",
    "\n"
   ]
  },
  {
   "cell_type": "code",
   "execution_count": 5,
   "metadata": {},
   "outputs": [
    {
     "name": "stdout",
     "output_type": "stream",
     "text": [
      "UserID\n",
      "16265    0.309839\n",
      "62123    0.288675\n",
      "271      0.288675\n",
      "15007    0.288675\n",
      "51988    0.288675\n",
      "Name: 59951, dtype: float64\n"
     ]
    }
   ],
   "source": [
    "top_similar_users = adjusted_similarity(df, similarity_df, 59951)\n",
    "print(top_similar_users)"
   ]
  },
  {
   "cell_type": "code",
   "execution_count": 9,
   "metadata": {},
   "outputs": [
    {
     "name": "stdout",
     "output_type": "stream",
     "text": [
      "       UserID  Gender    Country AgeGroup  \\\n",
      "270       271    Male      China    25-34   \n",
      "15006   15007  Female    Belgium    25-34   \n",
      "51987   51988  Female    Germany    25-34   \n",
      "62122   62123  Female     France    25-34   \n",
      "16264   16265  Female  Venezuela    35-44   \n",
      "\n",
      "                                               Interests  \n",
      "270                                              Fashion  \n",
      "15006                                         Technology  \n",
      "51987                                            Fashion  \n",
      "62122                                         Technology  \n",
      "16264  Fashion, Health and wellness, Photography, Pol...  \n"
     ]
    }
   ],
   "source": [
    "def get_similar_users(df, similarity_df, user_id, top_n=5):\n",
    "    user_row = df[df[\"UserID\"] == user_id].iloc[0]\n",
    "    user_country = user_row[\"Country\"]\n",
    "    user_age = user_row[\"AgeGroup\"]\n",
    "    \n",
    "    # Adjust similarity scores\n",
    "    sim_scores = similarity_df[user_id].copy()\n",
    "\n",
    "    for other_user in df[\"UserID\"]:\n",
    "        if other_user == user_id:\n",
    "            continue\n",
    "\n",
    "        other_row = df[df[\"UserID\"] == other_user].iloc[0]\n",
    "        \n",
    "        # Age similarity adjustment\n",
    "        age_weight = age_similarity(user_age, other_row[\"AgeGroup\"])\n",
    "        \n",
    "        # Country adjustment\n",
    "        if user_country != other_row[\"Country\"]:\n",
    "            sim_scores[other_user] *= 0.5  # Reduce similarity by 50% if from different country\n",
    "        \n",
    "        # Apply age weight\n",
    "        sim_scores[other_user] *= age_weight\n",
    "\n",
    "    # Get top N similar users\n",
    "    top_users = sim_scores.sort_values(ascending=False).iloc[1:top_n+1].index\n",
    "\n",
    "    # Retrieve full details of top similar users\n",
    "    similar_users = df[df[\"UserID\"].isin(top_users)][[\"UserID\", \"Gender\", \"Country\", \"AgeGroup\"] + list(df.columns[4:])]\n",
    "\n",
    "    # Convert interests into a single \"Interests\" column\n",
    "    interest_cols = df.columns[4:]  # Columns containing interests\n",
    "    similar_users[\"Interests\"] = similar_users[interest_cols].apply(lambda row: \", \".join(row.index[row == 1]), axis=1)\n",
    "\n",
    "    # Drop individual interest columns\n",
    "    similar_users = similar_users.drop(columns=interest_cols)\n",
    "\n",
    "    return similar_users\n",
    "\n",
    "# Example: Get top 5 similar users for user 123\n",
    "user_id = 59951\n",
    "top_similar_users = get_similar_users(df, similarity_df, user_id)\n",
    "\n",
    "print(top_similar_users)\n"
   ]
  },
  {
   "cell_type": "code",
   "execution_count": null,
   "metadata": {},
   "outputs": [],
   "source": []
  }
 ],
 "metadata": {
  "kernelspec": {
   "display_name": ".venv",
   "language": "python",
   "name": "python3"
  },
  "language_info": {
   "codemirror_mode": {
    "name": "ipython",
    "version": 3
   },
   "file_extension": ".py",
   "mimetype": "text/x-python",
   "name": "python",
   "nbconvert_exporter": "python",
   "pygments_lexer": "ipython3",
   "version": "3.12.1"
  }
 },
 "nbformat": 4,
 "nbformat_minor": 2
}
