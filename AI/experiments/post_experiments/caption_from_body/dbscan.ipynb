{
 "cells": [
  {
   "cell_type": "code",
   "execution_count": 94,
   "metadata": {},
   "outputs": [
    {
     "data": {
      "text/html": [
       "<div>\n",
       "<style scoped>\n",
       "    .dataframe tbody tr th:only-of-type {\n",
       "        vertical-align: middle;\n",
       "    }\n",
       "\n",
       "    .dataframe tbody tr th {\n",
       "        vertical-align: top;\n",
       "    }\n",
       "\n",
       "    .dataframe thead th {\n",
       "        text-align: right;\n",
       "    }\n",
       "</style>\n",
       "<table border=\"1\" class=\"dataframe\">\n",
       "  <thead>\n",
       "    <tr style=\"text-align: right;\">\n",
       "      <th></th>\n",
       "      <th>PostID</th>\n",
       "      <th>Caption</th>\n",
       "      <th>Body</th>\n",
       "      <th>Tags</th>\n",
       "      <th>Location</th>\n",
       "    </tr>\n",
       "  </thead>\n",
       "  <tbody>\n",
       "    <tr>\n",
       "      <th>0</th>\n",
       "      <td>1</td>\n",
       "      <td>Food for air travel</td>\n",
       "      <td>For most of our flights starting from our airp...</td>\n",
       "      <td>NaN</td>\n",
       "      <td>NaN</td>\n",
       "    </tr>\n",
       "    <tr>\n",
       "      <th>1</th>\n",
       "      <td>2</td>\n",
       "      <td>Would you rather spend 2 days in Edinburgh and...</td>\n",
       "      <td>In July we are going on a 16 day trip to Europ...</td>\n",
       "      <td>NaN</td>\n",
       "      <td>NaN</td>\n",
       "    </tr>\n",
       "    <tr>\n",
       "      <th>2</th>\n",
       "      <td>3</td>\n",
       "      <td>If you’ve done a Caribbean or Bahamas cruise w...</td>\n",
       "      <td>I’m in Dallas so I’d have to fly to Miami or s...</td>\n",
       "      <td>NaN</td>\n",
       "      <td>NaN</td>\n",
       "    </tr>\n",
       "    <tr>\n",
       "      <th>3</th>\n",
       "      <td>4</td>\n",
       "      <td>One week in Spain, the other week in….where?</td>\n",
       "      <td>We are attending a family reunion in southern ...</td>\n",
       "      <td>NaN</td>\n",
       "      <td>NaN</td>\n",
       "    </tr>\n",
       "    <tr>\n",
       "      <th>4</th>\n",
       "      <td>5</td>\n",
       "      <td>Munich/Spain Itinerary</td>\n",
       "      <td>Hey guys, hoping someone who's visited some of...</td>\n",
       "      <td>NaN</td>\n",
       "      <td>NaN</td>\n",
       "    </tr>\n",
       "  </tbody>\n",
       "</table>\n",
       "</div>"
      ],
      "text/plain": [
       "   PostID                                            Caption  \\\n",
       "0       1                                Food for air travel   \n",
       "1       2  Would you rather spend 2 days in Edinburgh and...   \n",
       "2       3  If you’ve done a Caribbean or Bahamas cruise w...   \n",
       "3       4       One week in Spain, the other week in….where?   \n",
       "4       5                             Munich/Spain Itinerary   \n",
       "\n",
       "                                                Body  Tags  Location  \n",
       "0  For most of our flights starting from our airp...   NaN       NaN  \n",
       "1  In July we are going on a 16 day trip to Europ...   NaN       NaN  \n",
       "2  I’m in Dallas so I’d have to fly to Miami or s...   NaN       NaN  \n",
       "3  We are attending a family reunion in southern ...   NaN       NaN  \n",
       "4  Hey guys, hoping someone who's visited some of...   NaN       NaN  "
      ]
     },
     "execution_count": 94,
     "metadata": {},
     "output_type": "execute_result"
    }
   ],
   "source": [
    "import pandas as pd\n",
    "import numpy as np\n",
    "import seaborn as sns\n",
    "import matplotlib.pyplot as plt\n",
    "from sklearn.feature_extraction.text import TfidfVectorizer\n",
    "from sklearn.cluster import DBSCAN\n",
    "from sklearn.metrics.pairwise import euclidean_distances\n",
    "\n",
    "# Load dataset\n",
    "csv_file_path = \"../caption_from_body/posts_caption_from_body.csv\"  # Update with your file path\n",
    "df = pd.read_csv(csv_file_path)\n",
    "df.head()"
   ]
  },
  {
   "cell_type": "code",
   "execution_count": 95,
   "metadata": {},
   "outputs": [
    {
     "data": {
      "text/html": [
       "<div>\n",
       "<style scoped>\n",
       "    .dataframe tbody tr th:only-of-type {\n",
       "        vertical-align: middle;\n",
       "    }\n",
       "\n",
       "    .dataframe tbody tr th {\n",
       "        vertical-align: top;\n",
       "    }\n",
       "\n",
       "    .dataframe thead th {\n",
       "        text-align: right;\n",
       "    }\n",
       "</style>\n",
       "<table border=\"1\" class=\"dataframe\">\n",
       "  <thead>\n",
       "    <tr style=\"text-align: right;\">\n",
       "      <th></th>\n",
       "      <th>PostID</th>\n",
       "      <th>Caption</th>\n",
       "      <th>Body</th>\n",
       "      <th>Tags</th>\n",
       "      <th>Location</th>\n",
       "      <th>text</th>\n",
       "    </tr>\n",
       "  </thead>\n",
       "  <tbody>\n",
       "    <tr>\n",
       "      <th>0</th>\n",
       "      <td>1</td>\n",
       "      <td>Food for air travel</td>\n",
       "      <td>For most of our flights starting from our airp...</td>\n",
       "      <td>NaN</td>\n",
       "      <td>NaN</td>\n",
       "      <td>Food for air travel For most of our flights st...</td>\n",
       "    </tr>\n",
       "    <tr>\n",
       "      <th>1</th>\n",
       "      <td>2</td>\n",
       "      <td>Would you rather spend 2 days in Edinburgh and...</td>\n",
       "      <td>In July we are going on a 16 day trip to Europ...</td>\n",
       "      <td>NaN</td>\n",
       "      <td>NaN</td>\n",
       "      <td>Would you rather spend 2 days in Edinburgh and...</td>\n",
       "    </tr>\n",
       "    <tr>\n",
       "      <th>2</th>\n",
       "      <td>3</td>\n",
       "      <td>If you’ve done a Caribbean or Bahamas cruise w...</td>\n",
       "      <td>I’m in Dallas so I’d have to fly to Miami or s...</td>\n",
       "      <td>NaN</td>\n",
       "      <td>NaN</td>\n",
       "      <td>If you’ve done a Caribbean or Bahamas cruise w...</td>\n",
       "    </tr>\n",
       "    <tr>\n",
       "      <th>3</th>\n",
       "      <td>4</td>\n",
       "      <td>One week in Spain, the other week in….where?</td>\n",
       "      <td>We are attending a family reunion in southern ...</td>\n",
       "      <td>NaN</td>\n",
       "      <td>NaN</td>\n",
       "      <td>One week in Spain, the other week in….where? W...</td>\n",
       "    </tr>\n",
       "    <tr>\n",
       "      <th>4</th>\n",
       "      <td>5</td>\n",
       "      <td>Munich/Spain Itinerary</td>\n",
       "      <td>Hey guys, hoping someone who's visited some of...</td>\n",
       "      <td>NaN</td>\n",
       "      <td>NaN</td>\n",
       "      <td>Munich/Spain Itinerary Hey guys, hoping someon...</td>\n",
       "    </tr>\n",
       "  </tbody>\n",
       "</table>\n",
       "</div>"
      ],
      "text/plain": [
       "   PostID                                            Caption  \\\n",
       "0       1                                Food for air travel   \n",
       "1       2  Would you rather spend 2 days in Edinburgh and...   \n",
       "2       3  If you’ve done a Caribbean or Bahamas cruise w...   \n",
       "3       4       One week in Spain, the other week in….where?   \n",
       "4       5                             Munich/Spain Itinerary   \n",
       "\n",
       "                                                Body  Tags  Location  \\\n",
       "0  For most of our flights starting from our airp...   NaN       NaN   \n",
       "1  In July we are going on a 16 day trip to Europ...   NaN       NaN   \n",
       "2  I’m in Dallas so I’d have to fly to Miami or s...   NaN       NaN   \n",
       "3  We are attending a family reunion in southern ...   NaN       NaN   \n",
       "4  Hey guys, hoping someone who's visited some of...   NaN       NaN   \n",
       "\n",
       "                                                text  \n",
       "0  Food for air travel For most of our flights st...  \n",
       "1  Would you rather spend 2 days in Edinburgh and...  \n",
       "2  If you’ve done a Caribbean or Bahamas cruise w...  \n",
       "3  One week in Spain, the other week in….where? W...  \n",
       "4  Munich/Spain Itinerary Hey guys, hoping someon...  "
      ]
     },
     "execution_count": 95,
     "metadata": {},
     "output_type": "execute_result"
    }
   ],
   "source": [
    "# Combine Caption and Body for text analysis\n",
    "df[\"text\"] = df[\"Caption\"].fillna(\"\") + \" \" + df[\"Body\"].fillna(\"\")\n",
    "df.head()"
   ]
  },
  {
   "cell_type": "code",
   "execution_count": 120,
   "metadata": {},
   "outputs": [],
   "source": [
    "# TF-IDF Vectorization\n",
    "vectorizer = TfidfVectorizer(stop_words=\"english\")\n",
    "text_vectors = vectorizer.fit_transform(df[\"text\"])\n",
    "\n",
    "# Compute Pairwise Distance Matrix for DBSCAN\n",
    "distance_matrix = euclidean_distances(text_vectors)\n",
    "\n",
    "# Apply DBSCAN Clustering\n",
    "dbscan = DBSCAN(eps=0.7, min_samples=3, metric=\"euclidean\")  # Tune eps and min_samples\n",
    "df[\"Cluster\"] = dbscan.fit_predict(text_vectors)"
   ]
  },
  {
   "cell_type": "code",
   "execution_count": 121,
   "metadata": {},
   "outputs": [
    {
     "name": "stdout",
     "output_type": "stream",
     "text": [
      "Cluster Distribution:\n",
      "Cluster\n",
      "-1     1855\n",
      " 9        7\n",
      " 7        7\n",
      " 8        6\n",
      " 1        3\n",
      " 0        3\n",
      " 3        3\n",
      " 2        3\n",
      " 6        3\n",
      " 5        3\n",
      " 4        3\n",
      " 10       3\n",
      "Name: count, dtype: int64\n"
     ]
    }
   ],
   "source": [
    "# Save clustered data\n",
    "df.to_csv(\"../caption_from_body/posts_dbscan_euclidean.csv\", index=False)\n",
    "\n",
    "# Count the number of clusters (-1 means noise/outliers)\n",
    "cluster_counts = df[\"Cluster\"].value_counts()\n",
    "\n",
    "# Print cluster details\n",
    "print(\"Cluster Distribution:\")\n",
    "print(cluster_counts)"
   ]
  },
  {
   "cell_type": "code",
   "execution_count": 122,
   "metadata": {},
   "outputs": [
    {
     "data": {
      "image/png": "[encoded data removed]",
      "text/plain": [
       "<Figure size 1000x500 with 1 Axes>"
      ]
     },
     "metadata": {},
     "output_type": "display_data"
    }
   ],
   "source": [
    "# Plot Cluster Distribution\n",
    "plt.figure(figsize=(10, 5))\n",
    "sns.barplot(x=cluster_counts.index, y=cluster_counts.values, hue=cluster_counts.index, palette=\"viridis\", legend=False)\n",
    "plt.xlabel(\"Cluster ID\")\n",
    "plt.ylabel(\"Number of Posts\")\n",
    "plt.title(\"DBSCAN Cluster Distribution\")\n",
    "plt.show()"
   ]
  },
  {
   "cell_type": "code",
   "execution_count": 123,
   "metadata": {},
   "outputs": [],
   "source": [
    "# cosine could be better as euclidean distance in high dimensional space doesn't work well (curse of dimensionality)\n",
    "\n",
    "# TF-IDF Vectorization\n",
    "vectorizer = TfidfVectorizer(stop_words=\"english\")\n",
    "text_vectors = vectorizer.fit_transform(df[\"text\"])\n",
    "\n",
    "# Apply DBSCAN with cosine similarity\n",
    "dbscan = DBSCAN(eps=0.7, min_samples=5, metric=\"cosine\")  # Tune eps and min_samples\n",
    "df[\"Cluster\"] = dbscan.fit_predict(text_vectors)\n"
   ]
  },
  {
   "cell_type": "code",
   "execution_count": 124,
   "metadata": {},
   "outputs": [
    {
     "name": "stdout",
     "output_type": "stream",
     "text": [
      "Cluster Distribution:\n",
      "Cluster\n",
      "-1     1439\n",
      " 0      339\n",
      " 4       32\n",
      " 1       20\n",
      " 6       15\n",
      " 2        8\n",
      " 7        7\n",
      " 9        6\n",
      " 10       6\n",
      " 5        6\n",
      " 12       6\n",
      " 8        5\n",
      " 3        5\n",
      " 11       5\n",
      "Name: count, dtype: int64\n"
     ]
    }
   ],
   "source": [
    "# Save clustered data\n",
    "df.to_csv(\"../caption_from_body/posts_dbscan_cosine.csv\", index=False)\n",
    "\n",
    "# Count the number of clusters (-1 means noise/outliers)\n",
    "cluster_counts = df[\"Cluster\"].value_counts()\n",
    "\n",
    "# Print cluster details\n",
    "print(\"Cluster Distribution:\")\n",
    "print(cluster_counts)"
   ]
  },
  {
   "cell_type": "code",
   "execution_count": 125,
   "metadata": {},
   "outputs": [
    {
     "data": {
      "image/png": "[encoded data removed]",
      "text/plain": [
       "<Figure size 1000x500 with 1 Axes>"
      ]
     },
     "metadata": {},
     "output_type": "display_data"
    }
   ],
   "source": [
    "# Plot Cluster Distribution\n",
    "plt.figure(figsize=(10, 5))\n",
    "sns.barplot(x=cluster_counts.index, y=cluster_counts.values, hue=cluster_counts.index, palette=\"viridis\", legend=False)\n",
    "plt.xlabel(\"Cluster ID\")\n",
    "plt.ylabel(\"Number of Posts\")\n",
    "plt.title(\"DBSCAN Cluster Distribution\")\n",
    "plt.show()"
   ]
  }
 ],
 "metadata": {
  "kernelspec": {
   "display_name": ".venv",
   "language": "python",
   "name": "python3"
  },
  "language_info": {
   "codemirror_mode": {
    "name": "ipython",
    "version": 3
   },
   "file_extension": ".py",
   "mimetype": "text/x-python",
   "name": "python",
   "nbconvert_exporter": "python",
   "pygments_lexer": "ipython3",
   "version": "3.12.1"
  }
 },
 "nbformat": 4,
 "nbformat_minor": 2
}
